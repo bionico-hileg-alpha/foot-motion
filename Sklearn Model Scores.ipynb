{
 "cells": [
  {
   "cell_type": "code",
   "execution_count": 1,
   "metadata": {
    "collapsed": true
   },
   "outputs": [],
   "source": [
    "import pandas as pd\n",
    "import numpy as np"
   ]
  },
  {
   "cell_type": "code",
   "execution_count": 46,
   "metadata": {
    "collapsed": true
   },
   "outputs": [],
   "source": [
    "data = pd.read_csv('data/four_data.csv')"
   ]
  },
  {
   "cell_type": "code",
   "execution_count": 47,
   "metadata": {
    "collapsed": true
   },
   "outputs": [],
   "source": [
    "data = data.rename(index=str, columns = {\n",
    "    'a1X': 'aFX', \n",
    "    'a1Y': 'aFY', \n",
    "    'a1Z': 'aFZ', \n",
    "    'g1X': 'gFX', \n",
    "    'g1Y': 'gFY', \n",
    "    'g1Z': 'gFZ',\n",
    "    \n",
    "    'a0X': 'aSX', \n",
    "    'a0Y': 'aSY', \n",
    "    'a0Z': 'aSZ', \n",
    "    'g0X': 'gSX', \n",
    "    'g0Y': 'gSY', \n",
    "    'g0Z': 'gSZ',\n",
    "})"
   ]
  },
  {
   "cell_type": "code",
   "execution_count": 94,
   "metadata": {},
   "outputs": [],
   "source": [
    "from sklearn.preprocessing import MinMaxScaler, StandardScaler\n",
    "\n",
    "# X = data[[\n",
    "#  'acc_rs_x',\n",
    "#  'acc_rs_y',\n",
    "#  'acc_rs_z',\n",
    "#  'gyro_rs_x',\n",
    "#  'gyro_rs_y',\n",
    "#  'gyro_rs_z',\n",
    "#  'EMG_r']]\n",
    "\n",
    "X = data[[\n",
    " 'aSX',\n",
    " 'aSY',\n",
    " 'aSZ',\n",
    " 'gSX',\n",
    " 'gSY',\n",
    " 'gSZ',\n",
    " 'myo'\n",
    "]]\n",
    "\n",
    "x_scaler = MinMaxScaler((0, 1))\n",
    "# x_scaler = StandardScaler()\n",
    "x_scaler.fit(X)\n",
    "x_scaled = x_scaler.transform(X)"
   ]
  },
  {
   "cell_type": "code",
   "execution_count": 95,
   "metadata": {},
   "outputs": [
    {
     "data": {
      "text/html": [
       "<div>\n",
       "<style scoped>\n",
       "    .dataframe tbody tr th:only-of-type {\n",
       "        vertical-align: middle;\n",
       "    }\n",
       "\n",
       "    .dataframe tbody tr th {\n",
       "        vertical-align: top;\n",
       "    }\n",
       "\n",
       "    .dataframe thead th {\n",
       "        text-align: right;\n",
       "    }\n",
       "</style>\n",
       "<table border=\"1\" class=\"dataframe\">\n",
       "  <thead>\n",
       "    <tr style=\"text-align: right;\">\n",
       "      <th></th>\n",
       "      <th>0</th>\n",
       "      <th>1</th>\n",
       "      <th>2</th>\n",
       "      <th>3</th>\n",
       "      <th>4</th>\n",
       "      <th>5</th>\n",
       "      <th>6</th>\n",
       "    </tr>\n",
       "  </thead>\n",
       "  <tbody>\n",
       "    <tr>\n",
       "      <th>count</th>\n",
       "      <td>48860.000000</td>\n",
       "      <td>48860.000000</td>\n",
       "      <td>48860.000000</td>\n",
       "      <td>48860.000000</td>\n",
       "      <td>48860.000000</td>\n",
       "      <td>48860.000000</td>\n",
       "      <td>48860.000000</td>\n",
       "    </tr>\n",
       "    <tr>\n",
       "      <th>mean</th>\n",
       "      <td>0.596446</td>\n",
       "      <td>0.518882</td>\n",
       "      <td>0.557526</td>\n",
       "      <td>0.412326</td>\n",
       "      <td>0.354139</td>\n",
       "      <td>0.450609</td>\n",
       "      <td>0.141852</td>\n",
       "    </tr>\n",
       "    <tr>\n",
       "      <th>std</th>\n",
       "      <td>0.214443</td>\n",
       "      <td>0.172902</td>\n",
       "      <td>0.094671</td>\n",
       "      <td>0.104814</td>\n",
       "      <td>0.116357</td>\n",
       "      <td>0.115887</td>\n",
       "      <td>0.084501</td>\n",
       "    </tr>\n",
       "    <tr>\n",
       "      <th>min</th>\n",
       "      <td>0.000000</td>\n",
       "      <td>0.000000</td>\n",
       "      <td>0.000000</td>\n",
       "      <td>0.000000</td>\n",
       "      <td>0.000000</td>\n",
       "      <td>0.000000</td>\n",
       "      <td>0.000000</td>\n",
       "    </tr>\n",
       "    <tr>\n",
       "      <th>25%</th>\n",
       "      <td>0.467927</td>\n",
       "      <td>0.441932</td>\n",
       "      <td>0.502946</td>\n",
       "      <td>0.370925</td>\n",
       "      <td>0.271730</td>\n",
       "      <td>0.401286</td>\n",
       "      <td>0.081761</td>\n",
       "    </tr>\n",
       "    <tr>\n",
       "      <th>50%</th>\n",
       "      <td>0.612273</td>\n",
       "      <td>0.467264</td>\n",
       "      <td>0.562338</td>\n",
       "      <td>0.410305</td>\n",
       "      <td>0.358860</td>\n",
       "      <td>0.434951</td>\n",
       "      <td>0.125786</td>\n",
       "    </tr>\n",
       "    <tr>\n",
       "      <th>75%</th>\n",
       "      <td>0.760939</td>\n",
       "      <td>0.646181</td>\n",
       "      <td>0.614895</td>\n",
       "      <td>0.453262</td>\n",
       "      <td>0.411495</td>\n",
       "      <td>0.503658</td>\n",
       "      <td>0.176101</td>\n",
       "    </tr>\n",
       "    <tr>\n",
       "      <th>max</th>\n",
       "      <td>1.000000</td>\n",
       "      <td>1.000000</td>\n",
       "      <td>1.000000</td>\n",
       "      <td>1.000000</td>\n",
       "      <td>1.000000</td>\n",
       "      <td>1.000000</td>\n",
       "      <td>1.000000</td>\n",
       "    </tr>\n",
       "  </tbody>\n",
       "</table>\n",
       "</div>"
      ],
      "text/plain": [
       "                  0             1             2             3             4  \\\n",
       "count  48860.000000  48860.000000  48860.000000  48860.000000  48860.000000   \n",
       "mean       0.596446      0.518882      0.557526      0.412326      0.354139   \n",
       "std        0.214443      0.172902      0.094671      0.104814      0.116357   \n",
       "min        0.000000      0.000000      0.000000      0.000000      0.000000   \n",
       "25%        0.467927      0.441932      0.502946      0.370925      0.271730   \n",
       "50%        0.612273      0.467264      0.562338      0.410305      0.358860   \n",
       "75%        0.760939      0.646181      0.614895      0.453262      0.411495   \n",
       "max        1.000000      1.000000      1.000000      1.000000      1.000000   \n",
       "\n",
       "                  5             6  \n",
       "count  48860.000000  48860.000000  \n",
       "mean       0.450609      0.141852  \n",
       "std        0.115887      0.084501  \n",
       "min        0.000000      0.000000  \n",
       "25%        0.401286      0.081761  \n",
       "50%        0.434951      0.125786  \n",
       "75%        0.503658      0.176101  \n",
       "max        1.000000      1.000000  "
      ]
     },
     "execution_count": 95,
     "metadata": {},
     "output_type": "execute_result"
    }
   ],
   "source": [
    "pd.DataFrame(x_scaled).describe()"
   ]
  },
  {
   "cell_type": "code",
   "execution_count": 96,
   "metadata": {},
   "outputs": [
    {
     "name": "stderr",
     "output_type": "stream",
     "text": [
      "/home/arkadii/anaconda3/lib/python3.6/site-packages/ipykernel_launcher.py:4: FutureWarning: reshape is deprecated and will raise in a subsequent release. Please use .values.reshape(...) instead\n",
      "  after removing the cwd from sys.path.\n",
      "/home/arkadii/anaconda3/lib/python3.6/site-packages/ipykernel_launcher.py:5: FutureWarning: reshape is deprecated and will raise in a subsequent release. Please use .values.reshape(...) instead\n",
      "  \"\"\"\n"
     ]
    }
   ],
   "source": [
    "Y = - data['gFY'] - data['gSY']\n",
    "\n",
    "y_scaler = MinMaxScaler((-1, 1))\n",
    "y_scaler.fit(Y.reshape(-1, 1))\n",
    "y_scaled = y_scaler.transform(Y.reshape(-1, 1)).T[0]"
   ]
  },
  {
   "cell_type": "code",
   "execution_count": 97,
   "metadata": {},
   "outputs": [
    {
     "data": {
      "text/plain": [
       "count    48860.000000\n",
       "mean         0.332265\n",
       "std          0.214458\n",
       "min         -1.000000\n",
       "25%          0.264689\n",
       "50%          0.323255\n",
       "75%          0.436689\n",
       "max          1.000000\n",
       "dtype: float64"
      ]
     },
     "execution_count": 97,
     "metadata": {},
     "output_type": "execute_result"
    }
   ],
   "source": [
    "pd.Series(y_scaled).describe()"
   ]
  },
  {
   "cell_type": "code",
   "execution_count": 79,
   "metadata": {
    "collapsed": true
   },
   "outputs": [],
   "source": [
    "from sklearn.model_selection import cross_validate\n",
    "from sklearn.linear_model import ElasticNet, Lasso, LinearRegression, Ridge, SGDRegressor\n",
    "from sklearn.svm import SVR\n",
    "from sklearn.ensemble import GradientBoostingRegressor\n",
    "from sklearn.metrics import median_absolute_error, mean_squared_error, make_scorer\n",
    "\n",
    "models = [\n",
    "    ('SGD', SGDRegressor(tol=1e-3)),\n",
    "    ('Linear Regression', LinearRegression()),\n",
    "    ('Elastic Net', ElasticNet()),\n",
    "    ('Lasso', Lasso()),\n",
    "    ('Ridge', Ridge()),\n",
    "#     ('SVR (Linear)', SVR(kernel='linear')),\n",
    "#     ('SVR (RBF)', SVR(kernel='rbf')),\n",
    "    ('GBR (100, ls)', GradientBoostingRegressor(n_estimators=100)),\n",
    "    ('GBR (200, ls)', GradientBoostingRegressor(n_estimators=200)),\n",
    "    ('GBR (300, ls)', GradientBoostingRegressor(n_estimators=300)),\n",
    "    ('GBR (100, huber)', GradientBoostingRegressor(n_estimators=100, loss='huber')),\n",
    "    ('GBR (200, huber)', GradientBoostingRegressor(n_estimators=200, loss='huber')),\n",
    "    ('GBR (300, huber)', GradientBoostingRegressor(n_estimators=300, loss='huber')),\n",
    "    ('GBR (400, huber)', GradientBoostingRegressor(n_estimators=400, loss='huber')),\n",
    "]\n",
    "\n",
    "def corr_score(y_true, y_pred):\n",
    "    return np.corrcoef(y_true, y_pred)[0][1]\n",
    "    \n",
    "\n",
    "scoring = {\n",
    "    'neg_mean_squared_error': 'neg_mean_squared_error', \n",
    "    'explained_variance': 'explained_variance', \n",
    "    'r2': 'r2',\n",
    "    'corr_coef': make_scorer(corr_score)\n",
    "}"
   ]
  },
  {
   "cell_type": "code",
   "execution_count": 80,
   "metadata": {
    "collapsed": true
   },
   "outputs": [],
   "source": [
    "import numpy as np\n",
    "def cross_validate_models(models, X, Y):\n",
    "    for name, model in models:\n",
    "        scores = cross_validate(model, X, Y, scoring=scoring, cv=10)\n",
    "        print('Model: {}'.format(name))\n",
    "        print('RMSE normalized: {}'.format(np.sqrt(-scores['test_neg_mean_squared_error']).mean()))\n",
    "#         print('RMSE denormalized: {}'.format(np.sqrt(-scores['test_neg_mean_squared_error']).mean()*2000/2**15))\n",
    "        print('Explained Variance: {}'.format(scores['test_explained_variance'].mean()))\n",
    "        print('R2 score: {}'.format(scores['test_r2'].mean()))\n",
    "        print('Corr coeff: {}'.format(scores['test_corr_coef'].mean()))\n",
    "        print('---------------------------------------------------------------------------')\n",
    "\n",
    "    print('---------------------------------------------------------------------------')\n",
    "    print('Finished')"
   ]
  },
  {
   "cell_type": "code",
   "execution_count": 81,
   "metadata": {},
   "outputs": [
    {
     "name": "stdout",
     "output_type": "stream",
     "text": [
      "Model: SGD\n",
      "RMSE normalized: 0.9302611415714732\n",
      "Explained Variance: -0.09659610028320667\n",
      "R2 score: -1.0257913774023533\n",
      "Corr coeff: 0.0764992874554559\n",
      "---------------------------------------------------------------------------\n",
      "Model: Linear Regression\n",
      "RMSE normalized: 0.7604059986915208\n",
      "Explained Variance: 0.012339414428644568\n",
      "R2 score: -0.044936496140729275\n",
      "Corr coeff: 0.11755660229470777\n",
      "---------------------------------------------------------------------------\n",
      "Model: Elastic Net\n",
      "RMSE normalized: 0.7622794848910242\n",
      "Explained Variance: 0.017722170212383825\n",
      "R2 score: -0.052217177820824225\n",
      "Corr coeff: 0.1175566022947078\n",
      "---------------------------------------------------------------------------\n",
      "Model: Lasso\n",
      "RMSE normalized: 0.7666752337510954\n",
      "Explained Variance: 0.01516068780659512\n",
      "R2 score: -0.06942237084007775\n",
      "Corr coeff: 0.11755660229470774\n",
      "---------------------------------------------------------------------------\n",
      "Model: Ridge\n",
      "RMSE normalized: 0.7604059989229134\n",
      "Explained Variance: 0.012339418642939937\n",
      "R2 score: -0.04493649705852113\n",
      "Corr coeff: 0.11755660229470774\n",
      "---------------------------------------------------------------------------\n",
      "Model: GBR (100, ls)\n",
      "RMSE normalized: 0.7623894182765161\n",
      "Explained Variance: 0.005138759954508687\n",
      "R2 score: -0.05287824582918414\n",
      "Corr coeff: 0.11219212393995123\n",
      "---------------------------------------------------------------------------\n",
      "Model: GBR (200, ls)\n",
      "RMSE normalized: 0.762924846903424\n",
      "Explained Variance: 0.002681866573490155\n",
      "R2 score: -0.0551540437148262\n",
      "Corr coeff: 0.11030074879523988\n",
      "---------------------------------------------------------------------------\n",
      "Model: GBR (300, ls)\n",
      "RMSE normalized: 0.7632421237927907\n",
      "Explained Variance: 0.0012791753020766849\n",
      "R2 score: -0.05650073493787838\n",
      "Corr coeff: 0.10912562540368649\n",
      "---------------------------------------------------------------------------\n",
      "Model: GBR (100, huber)\n",
      "RMSE normalized: 0.7661576719257608\n",
      "Explained Variance: 0.0036695766485897565\n",
      "R2 score: -0.07399444545912262\n",
      "Corr coeff: 0.11495165153301046\n",
      "---------------------------------------------------------------------------\n",
      "Model: GBR (200, huber)\n",
      "RMSE normalized: 0.7664065294879039\n",
      "Explained Variance: 0.00242556251269862\n",
      "R2 score: -0.07508562416124698\n",
      "Corr coeff: 0.11403310167278724\n",
      "---------------------------------------------------------------------------\n",
      "Model: GBR (300, huber)\n",
      "RMSE normalized: 0.7664659615291954\n",
      "Explained Variance: 0.002161580248781836\n",
      "R2 score: -0.07532515979563391\n",
      "Corr coeff: 0.11377752172441927\n",
      "---------------------------------------------------------------------------\n",
      "Model: GBR (400, huber)\n",
      "RMSE normalized: 0.7665033661237238\n",
      "Explained Variance: 0.001999024567321117\n",
      "R2 score: -0.07547040926511049\n",
      "Corr coeff: 0.1136062871799585\n",
      "---------------------------------------------------------------------------\n",
      "---------------------------------------------------------------------------\n",
      "Finished\n"
     ]
    }
   ],
   "source": [
    "cross_validate_models(models, X, Y)"
   ]
  },
  {
   "cell_type": "code",
   "execution_count": null,
   "metadata": {
    "collapsed": true
   },
   "outputs": [],
   "source": []
  }
 ],
 "metadata": {
  "kernelspec": {
   "display_name": "Python 3",
   "language": "python",
   "name": "python3"
  },
  "language_info": {
   "codemirror_mode": {
    "name": "ipython",
    "version": 3
   },
   "file_extension": ".py",
   "mimetype": "text/x-python",
   "name": "python",
   "nbconvert_exporter": "python",
   "pygments_lexer": "ipython3",
   "version": "3.6.3"
  }
 },
 "nbformat": 4,
 "nbformat_minor": 2
}
