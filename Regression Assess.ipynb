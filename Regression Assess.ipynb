{
 "cells": [
  {
   "cell_type": "code",
   "execution_count": 1,
   "metadata": {},
   "outputs": [
    {
     "name": "stderr",
     "output_type": "stream",
     "text": [
      "/home/arkadii/anaconda3/lib/python3.6/site-packages/h5py/__init__.py:34: FutureWarning: Conversion of the second argument of issubdtype from `float` to `np.floating` is deprecated. In future, it will be treated as `np.float64 == np.dtype(float).type`.\n",
      "  from ._conv import register_converters as _register_converters\n",
      "Using TensorFlow backend.\n"
     ]
    }
   ],
   "source": [
    "import pandas as pd\n",
    "from keras.models import load_model\n",
    "import sklearn as sk"
   ]
  },
  {
   "cell_type": "code",
   "execution_count": 7,
   "metadata": {
    "collapsed": true
   },
   "outputs": [],
   "source": [
    "import keras\n",
    "from keras import backend as K\n",
    "\n",
    "def root_mean_squared_error(y_true, y_pred):\n",
    "        return K.sqrt(K.mean(K.square(y_pred - y_true), axis=-1))\n",
    "    \n",
    "keras.metrics.root_mean_squared_error = root_mean_squared_error\n",
    "\n",
    "ol_model = load_model('models/one_layer_regressor.h5')"
   ]
  },
  {
   "cell_type": "code",
   "execution_count": 8,
   "metadata": {},
   "outputs": [
    {
     "name": "stderr",
     "output_type": "stream",
     "text": [
      "/home/arkadii/anaconda3/lib/python3.6/site-packages/keras/models.py:255: UserWarning: No training configuration found in save file: the model was *not* compiled. Compile it manually.\n",
      "  warnings.warn('No training configuration found in save file: '\n"
     ]
    }
   ],
   "source": [
    "encoder = load_model('models/one_layer_e_rmse.h5')"
   ]
  },
  {
   "cell_type": "code",
   "execution_count": 16,
   "metadata": {},
   "outputs": [
    {
     "name": "stderr",
     "output_type": "stream",
     "text": [
      "/home/arkadii/anaconda3/lib/python3.6/site-packages/keras/models.py:255: UserWarning: No training configuration found in save file: the model was *not* compiled. Compile it manually.\n",
      "  warnings.warn('No training configuration found in save file: '\n"
     ]
    }
   ],
   "source": [
    "decoder = load_model('models/one_layer_d_rmse.h5')"
   ]
  },
  {
   "cell_type": "code",
   "execution_count": 17,
   "metadata": {
    "collapsed": true
   },
   "outputs": [],
   "source": [
    "ae = load_model('models/one_layer_ae_rmse.h5')"
   ]
  },
  {
   "cell_type": "code",
   "execution_count": 10,
   "metadata": {
    "collapsed": true
   },
   "outputs": [],
   "source": [
    "data = pd.read_csv('data/necessary_data.csv')"
   ]
  },
  {
   "cell_type": "code",
   "execution_count": 27,
   "metadata": {
    "collapsed": true
   },
   "outputs": [],
   "source": [
    "X = data[[\n",
    " 'acc_rs_x',\n",
    " 'acc_rs_y',\n",
    " 'acc_rs_z',\n",
    " 'gyro_rs_x',\n",
    " 'gyro_rs_y',\n",
    " 'gyro_rs_z',\n",
    " 'EMG_r'\n",
    "]]"
   ]
  },
  {
   "cell_type": "code",
   "execution_count": 28,
   "metadata": {},
   "outputs": [
    {
     "name": "stderr",
     "output_type": "stream",
     "text": [
      "/home/arkadii/anaconda3/lib/python3.6/site-packages/sklearn/utils/validation.py:475: DataConversionWarning: Data with input dtype int64 was converted to float64 by MinMaxScaler.\n",
      "  warnings.warn(msg, DataConversionWarning)\n"
     ]
    },
    {
     "data": {
      "text/html": [
       "<div>\n",
       "<style scoped>\n",
       "    .dataframe tbody tr th:only-of-type {\n",
       "        vertical-align: middle;\n",
       "    }\n",
       "\n",
       "    .dataframe tbody tr th {\n",
       "        vertical-align: top;\n",
       "    }\n",
       "\n",
       "    .dataframe thead th {\n",
       "        text-align: right;\n",
       "    }\n",
       "</style>\n",
       "<table border=\"1\" class=\"dataframe\">\n",
       "  <thead>\n",
       "    <tr style=\"text-align: right;\">\n",
       "      <th></th>\n",
       "      <th>acc_rs_x</th>\n",
       "      <th>acc_rs_y</th>\n",
       "      <th>acc_rs_z</th>\n",
       "      <th>gyro_rs_x</th>\n",
       "      <th>gyro_rs_y</th>\n",
       "      <th>gyro_rs_z</th>\n",
       "      <th>EMG_r</th>\n",
       "    </tr>\n",
       "  </thead>\n",
       "  <tbody>\n",
       "    <tr>\n",
       "      <th>count</th>\n",
       "      <td>2.111869e+06</td>\n",
       "      <td>2.111869e+06</td>\n",
       "      <td>2.111869e+06</td>\n",
       "      <td>2.111869e+06</td>\n",
       "      <td>2.111869e+06</td>\n",
       "      <td>2.111869e+06</td>\n",
       "      <td>2.111869e+06</td>\n",
       "    </tr>\n",
       "    <tr>\n",
       "      <th>mean</th>\n",
       "      <td>2.621590e-01</td>\n",
       "      <td>4.795814e-01</td>\n",
       "      <td>4.357348e-01</td>\n",
       "      <td>4.980272e-01</td>\n",
       "      <td>5.046632e-01</td>\n",
       "      <td>4.976528e-01</td>\n",
       "      <td>4.942710e-01</td>\n",
       "    </tr>\n",
       "    <tr>\n",
       "      <th>std</th>\n",
       "      <td>9.780774e-02</td>\n",
       "      <td>8.836145e-02</td>\n",
       "      <td>1.195361e-01</td>\n",
       "      <td>9.450305e-02</td>\n",
       "      <td>1.651889e-01</td>\n",
       "      <td>5.989826e-02</td>\n",
       "      <td>7.539953e-02</td>\n",
       "    </tr>\n",
       "    <tr>\n",
       "      <th>min</th>\n",
       "      <td>0.000000e+00</td>\n",
       "      <td>0.000000e+00</td>\n",
       "      <td>0.000000e+00</td>\n",
       "      <td>0.000000e+00</td>\n",
       "      <td>0.000000e+00</td>\n",
       "      <td>0.000000e+00</td>\n",
       "      <td>0.000000e+00</td>\n",
       "    </tr>\n",
       "    <tr>\n",
       "      <th>25%</th>\n",
       "      <td>2.454871e-01</td>\n",
       "      <td>4.382391e-01</td>\n",
       "      <td>3.926452e-01</td>\n",
       "      <td>4.905318e-01</td>\n",
       "      <td>4.982681e-01</td>\n",
       "      <td>4.957656e-01</td>\n",
       "      <td>4.803150e-01</td>\n",
       "    </tr>\n",
       "    <tr>\n",
       "      <th>50%</th>\n",
       "      <td>2.590372e-01</td>\n",
       "      <td>4.867628e-01</td>\n",
       "      <td>4.487373e-01</td>\n",
       "      <td>5.000534e-01</td>\n",
       "      <td>5.000076e-01</td>\n",
       "      <td>4.999466e-01</td>\n",
       "      <td>4.960630e-01</td>\n",
       "    </tr>\n",
       "    <tr>\n",
       "      <th>75%</th>\n",
       "      <td>2.896773e-01</td>\n",
       "      <td>5.246052e-01</td>\n",
       "      <td>4.869459e-01</td>\n",
       "      <td>5.047532e-01</td>\n",
       "      <td>5.314717e-01</td>\n",
       "      <td>5.030137e-01</td>\n",
       "      <td>5.078740e-01</td>\n",
       "    </tr>\n",
       "    <tr>\n",
       "      <th>max</th>\n",
       "      <td>1.000000e+00</td>\n",
       "      <td>1.000000e+00</td>\n",
       "      <td>1.000000e+00</td>\n",
       "      <td>1.000000e+00</td>\n",
       "      <td>1.000000e+00</td>\n",
       "      <td>1.000000e+00</td>\n",
       "      <td>1.000000e+00</td>\n",
       "    </tr>\n",
       "  </tbody>\n",
       "</table>\n",
       "</div>"
      ],
      "text/plain": [
       "           acc_rs_x      acc_rs_y      acc_rs_z     gyro_rs_x     gyro_rs_y  \\\n",
       "count  2.111869e+06  2.111869e+06  2.111869e+06  2.111869e+06  2.111869e+06   \n",
       "mean   2.621590e-01  4.795814e-01  4.357348e-01  4.980272e-01  5.046632e-01   \n",
       "std    9.780774e-02  8.836145e-02  1.195361e-01  9.450305e-02  1.651889e-01   \n",
       "min    0.000000e+00  0.000000e+00  0.000000e+00  0.000000e+00  0.000000e+00   \n",
       "25%    2.454871e-01  4.382391e-01  3.926452e-01  4.905318e-01  4.982681e-01   \n",
       "50%    2.590372e-01  4.867628e-01  4.487373e-01  5.000534e-01  5.000076e-01   \n",
       "75%    2.896773e-01  5.246052e-01  4.869459e-01  5.047532e-01  5.314717e-01   \n",
       "max    1.000000e+00  1.000000e+00  1.000000e+00  1.000000e+00  1.000000e+00   \n",
       "\n",
       "          gyro_rs_z         EMG_r  \n",
       "count  2.111869e+06  2.111869e+06  \n",
       "mean   4.976528e-01  4.942710e-01  \n",
       "std    5.989826e-02  7.539953e-02  \n",
       "min    0.000000e+00  0.000000e+00  \n",
       "25%    4.957656e-01  4.803150e-01  \n",
       "50%    4.999466e-01  4.960630e-01  \n",
       "75%    5.030137e-01  5.078740e-01  \n",
       "max    1.000000e+00  1.000000e+00  "
      ]
     },
     "execution_count": 28,
     "metadata": {},
     "output_type": "execute_result"
    }
   ],
   "source": [
    "from sklearn import preprocessing\n",
    "\n",
    "min_max_scaler = preprocessing.MinMaxScaler()\n",
    "x_scaled = min_max_scaler.fit_transform(X.values)\n",
    "DF = pd.DataFrame(x_scaled, columns=list(X))\n",
    "\n",
    "DF.describe()"
   ]
  },
  {
   "cell_type": "code",
   "execution_count": 29,
   "metadata": {},
   "outputs": [
    {
     "name": "stdout",
     "output_type": "stream",
     "text": [
      "2111869/2111869 [==============================] - 14s 6us/step\n"
     ]
    },
    {
     "data": {
      "text/plain": [
       "0.04938699604766195"
      ]
     },
     "execution_count": 29,
     "metadata": {},
     "output_type": "execute_result"
    }
   ],
   "source": [
    "ae.evaluate(DF, DF, batch_size=256)"
   ]
  }
 ],
 "metadata": {
  "kernelspec": {
   "display_name": "Python 3",
   "language": "python",
   "name": "python3"
  },
  "language_info": {
   "codemirror_mode": {
    "name": "ipython",
    "version": 3
   },
   "file_extension": ".py",
   "mimetype": "text/x-python",
   "name": "python",
   "nbconvert_exporter": "python",
   "pygments_lexer": "ipython3",
   "version": "3.6.3"
  }
 },
 "nbformat": 4,
 "nbformat_minor": 2
}
